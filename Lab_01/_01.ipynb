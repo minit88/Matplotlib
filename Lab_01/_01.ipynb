{
  "nbformat": 4,
  "nbformat_minor": 0,
  "metadata": {
    "colab": {
      "provenance": [],
      "authorship_tag": "ABX9TyN/WUH4xxGCnnBIJTWRqIag",
      "include_colab_link": true
    },
    "kernelspec": {
      "name": "python3",
      "display_name": "Python 3"
    },
    "language_info": {
      "name": "python"
    }
  },
  "cells": [
    {
      "cell_type": "markdown",
      "metadata": {
        "id": "view-in-github",
        "colab_type": "text"
      },
      "source": [
        "<a href=\"https://colab.research.google.com/github/minit88/Matplotlib/blob/main/Lab_01/_01.ipynb\" target=\"_parent\"><img src=\"https://colab.research.google.com/assets/colab-badge.svg\" alt=\"Open In Colab\"/></a>"
      ]
    },
    {
      "cell_type": "code",
      "execution_count": 1,
      "metadata": {
        "colab": {
          "base_uri": "https://localhost:8080/",
          "height": 446
        },
        "id": "jmxnEdrOzzVd",
        "outputId": "21fabf5d-2054-4543-c14b-aa1f6a90912a"
      },
      "outputs": [
        {
          "output_type": "stream",
          "name": "stderr",
          "text": [
            "/usr/local/lib/python3.7/dist-packages/ipykernel_launcher.py:22: UserWarning: In Matplotlib 3.3 individual lines on a stem plot will be added as a LineCollection instead of individual lines. This significantly improves the performance of a stem plot. To remove this warning and switch to the new behaviour, set the \"use_line_collection\" keyword argument to True.\n",
            "/usr/local/lib/python3.7/dist-packages/ipykernel_launcher.py:23: UserWarning: In Matplotlib 3.3 individual lines on a stem plot will be added as a LineCollection instead of individual lines. This significantly improves the performance of a stem plot. To remove this warning and switch to the new behaviour, set the \"use_line_collection\" keyword argument to True.\n",
            "/usr/local/lib/python3.7/dist-packages/ipykernel_launcher.py:24: UserWarning: In Matplotlib 3.3 individual lines on a stem plot will be added as a LineCollection instead of individual lines. This significantly improves the performance of a stem plot. To remove this warning and switch to the new behaviour, set the \"use_line_collection\" keyword argument to True.\n",
            "/usr/local/lib/python3.7/dist-packages/ipykernel_launcher.py:27: UserWarning: In Matplotlib 3.3 individual lines on a stem plot will be added as a LineCollection instead of individual lines. This significantly improves the performance of a stem plot. To remove this warning and switch to the new behaviour, set the \"use_line_collection\" keyword argument to True.\n",
            "/usr/local/lib/python3.7/dist-packages/ipykernel_launcher.py:28: UserWarning: In Matplotlib 3.3 individual lines on a stem plot will be added as a LineCollection instead of individual lines. This significantly improves the performance of a stem plot. To remove this warning and switch to the new behaviour, set the \"use_line_collection\" keyword argument to True.\n",
            "/usr/local/lib/python3.7/dist-packages/ipykernel_launcher.py:29: UserWarning: In Matplotlib 3.3 individual lines on a stem plot will be added as a LineCollection instead of individual lines. This significantly improves the performance of a stem plot. To remove this warning and switch to the new behaviour, set the \"use_line_collection\" keyword argument to True.\n"
          ]
        },
        {
          "output_type": "display_data",
          "data": {
            "text/plain": [
              "<Figure size 350x100 with 3 Axes>"
            ],
            "image/png": "[encoded data removed]"
          },
          "metadata": {
            "needs_background": "light"
          }
        },
        {
          "output_type": "display_data",
          "data": {
            "text/plain": [
              "<Figure size 300x200 with 3 Axes>"
            ],
            "image/png": "[encoded data removed]"
          },
          "metadata": {
            "needs_background": "light"
          }
        }
      ],
      "source": [
        "import numpy as np\n",
        "import matplotlib.pyplot as plt\n",
        "\n",
        "nmin , nmax = -3,10\n",
        "n=np.arange(nmin,nmax+1)\n",
        "\n",
        "x=np.array([0,0,0,3,3,5,5,4,3,2,1,0,0,0])\n",
        "\n",
        "#plt.stem(n, x); \n",
        "x2 = np.array([3,3,5,5,4,3,2,1])\n",
        "x3 = np.zeros(len(n))\n",
        "x3[3:11]=x2\n",
        "#plt.figure # 새 창 만들기\n",
        "#plt.stem(n,x3)\n",
        "\n",
        "x4 = np.concatenate((np.zeros(3),x2)) \n",
        "x4 = np.concatenate((x4,np.zeros(3)))\n",
        "\n",
        "#plt.figure # 새 창 만들기\n",
        "#plt.stem(n,x4)\n",
        "plt.figure(figsize=(7,2),dpi=50)\n",
        "plt.subplot(1,3,1); plt.stem(n,x);plt.ylabel('Amplitude')\n",
        "plt.subplot(1,3,2); plt.stem(n,x3);plt.title('Method1');plt.ylim([-1,6])\n",
        "plt.subplot(1,3,3); plt.stem(n,x4);plt.xlabel('n');plt.xlim([0,7])\n",
        "\n",
        "fig,ax=plt.subplots(2,2,figsize=(6,4),dpi=50)\n",
        "ax[0,0].stem(n,x);ax[0,0].set(ylabel='Amplitude')\n",
        "ax[0,1].stem(n,x3);ax[0,1].set(title='Method1',ylim=[-1,6])\n",
        "ax[1,0].stem(n,x4);ax[1,0].set(xlabel='n',xlim=[0,7])\n",
        "fig.delaxes(ax[1,1])"
      ]
    }
  ]
}