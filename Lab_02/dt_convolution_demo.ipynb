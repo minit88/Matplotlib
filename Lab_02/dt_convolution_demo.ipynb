{
  "cells": [
    {
      "cell_type": "markdown",
      "metadata": {
        "id": "22bgrF18fe8y"
      },
      "source": [
        "## 파이썬 위젯 데모: 이산시간 콘볼루션 합"
      ]
    },
    {
      "cell_type": "code",
      "execution_count": 19,
      "metadata": {
        "id": "c4_Aimjffe80"
      },
      "outputs": [],
      "source": [
        "# 파이썬과 함께 배우는 신호와시스템(2판)\n",
        "# 남승현 지음\n",
        "# 도서출판 홍릉, 2020"
      ]
    },
    {
      "cell_type": "code",
      "execution_count": 20,
      "metadata": {
        "id": "iP35jpnPfe81"
      },
      "outputs": [],
      "source": [
        "import matplotlib"
      ]
    },
    {
      "cell_type": "code",
      "execution_count": 21,
      "metadata": {
        "id": "vs0JO0Utfe82"
      },
      "outputs": [],
      "source": [
        "#matplotlib widget#config InlineBackend.figure_format = 'retina'"
      ]
    },
    {
      "cell_type": "code",
      "execution_count": 22,
      "metadata": {
        "id": "vB3HOlDUfe82"
      },
      "outputs": [],
      "source": [
        "import numpy as np\n",
        "import matplotlib.pyplot as plt\n",
        "from matplotlib.collections import LineCollection\n",
        "from ipywidgets import ToggleButtons, IntSlider\n",
        "from ipywidgets import Box, VBox, Layout, Output, TwoByTwoLayout"
      ]
    },
    {
      "cell_type": "code",
      "execution_count": 23,
      "metadata": {
        "id": "8qT9wHRufe83"
      },
      "outputs": [],
      "source": [
        "import seaborn as sns\n",
        "sns.set()\n",
        "sns.set_style('whitegrid')\n",
        "sns.set_color_codes()"
      ]
    },
    {
      "cell_type": "code",
      "execution_count": 24,
      "metadata": {
        "id": "GhI1gqRZfe83"
      },
      "outputs": [],
      "source": [
        "# signal x and h to be convolved\n",
        "x = lambda n: (5-np.abs(5-n))*((n>=0)&(n<10))/5 \n",
        "h = lambda n: 1.0*((n>=0)&(n<5)) - 1.0*((n>=5)&(n<10))\n",
        "n = np.arange(-13, 25)"
      ]
    },
    {
      "cell_type": "code",
      "execution_count": 25,
      "metadata": {
        "colab": {
          "base_uri": "https://localhost:8080/",
          "height": 329
        },
        "id": "vSOBOWAxfe84",
        "outputId": "0713b8ce-1bb7-48c6-b337-c92a51b14be2"
      },
      "outputs": [
        {
          "output_type": "display_data",
          "data": {
            "text/plain": [
              "<Figure size 432x324 with 2 Axes>"
            ],
            "image/png": "[encoded data removed]"
          },
          "metadata": {}
        }
      ],
      "source": [
        "# show convolution procedure step-by-step\n",
        "k = np.arange(-13, 26)\n",
        "\n",
        "# Calculate the overall convolution result\n",
        "y = np.zeros(len(n))\n",
        "for m, ni in enumerate(n):\n",
        "    prod = lambda k: x(k) * h(ni-k)\n",
        "    y[m] = np.sum(prod(k))\n",
        "    \n",
        "conv_fig = Output()\n",
        "with conv_fig:\n",
        "    fig, (ax1,ax2) = plt.subplots(2,1, figsize=(6,4.5), num='STEPS OF FLIP-AND-SLIDE CONVOLUTION')\n",
        "    markers_x, = ax1.plot(k, x(k), ls='none', marker='o', ms=5, mfc='C0')\n",
        "    stem_x = np.c_[k, np.zeros_like(k), k, x(k)].reshape(len(k),2,2)\n",
        "    col_x = LineCollection(stem_x, colors=['C0'])\n",
        "    markers_h, = ax1.plot(k, h(k), ls='none', marker='o', ms=5, mfc='C1')\n",
        "    stem_h = np.c_[k, np.zeros_like(k), k, h(k)].reshape(len(k),2,2)\n",
        "    col_h = LineCollection(stem_h, colors=['C1'])\n",
        "    ax1.add_collection(col_x)\n",
        "    ax1.add_collection(col_h)\n",
        "    text_x = ax1.text(8, 0.55, 'x[n]', bbox=dict(fc='white',alpha=0,lw=0))\n",
        "    text_h = ax1.text(9.5, -0.6, 'h[n]', bbox=dict(fc='white',alpha=0,lw=0))\n",
        "    ax1.set_xlim(-13.5, 24.5)\n",
        "    ax1.set_xlabel('n')\n",
        "    ax1.set_ymargin(0.1)\n",
        "    ax1.set_title('x:blue and h:orange')\n",
        "    # plot the convolution curve\n",
        "    markers_y, = ax2.plot(n, y, ls='none', marker='o', ms=5, mfc='C0')\n",
        "    stem_y = np.c_[n, np.zeros_like(n), n, y].reshape(len(n),2,2)\n",
        "    col_y = LineCollection(stem_y, colors=['C0'])\n",
        "    ax2.add_collection(col_y)\n",
        "    markers_y0, = ax2.plot([], [], ls='none', marker='o', ms=7, mfc='r', mec='r')\n",
        "    stem_y0 = np.c_[0, 0, 0, 0].reshape(1,2,2)\n",
        "    col_y0 = LineCollection(stem_y0, colors=['r'], lw=3)\n",
        "    ax2.add_collection(col_y0)\n",
        "    ax2.set_xlim(-13.5, 24.5)\n",
        "    ax2.set_xlabel('n')\n",
        "    ax2.set_ylim(-4, 4)\n",
        "    ax2.set_title('convolution y = x * h')\n",
        "    fig.tight_layout()"
      ]
    },
    {
      "cell_type": "code",
      "execution_count": 26,
      "metadata": {
        "id": "wpSv10m3fe85"
      },
      "outputs": [],
      "source": [
        "def stepwise_convolution(step):\n",
        "    if (step=='signals'):\n",
        "        markers_h.set_data(n, h(n))\n",
        "        stem_h = np.c_[n, np.zeros_like(n), n, h(n)].reshape(len(n),2,2)\n",
        "        col_h.set_segments(stem_h)\n",
        "        text_x.set_position([8, 0.55])\n",
        "        text_x.set_text('x[n]')\n",
        "        text_h.set_position([9.5, -0.6])\n",
        "        text_h.set_text('h[n]')\n",
        "        markers_y0.set_data([], [])\n",
        "        stem_y0 = np.c_[[],[],[],[]].reshape(1,2,2)\n",
        "        col_y0 = LineCollection([[],[],[],[]], colors=['r'], lw=3)\n",
        "        ax1.set_xlabel('n')\n",
        "    elif (step=='n --> k'):\n",
        "        markers_h.set_data(k, h(k))\n",
        "        stem_h = np.c_[k, np.zeros_like(k), k, h(k)].reshape(len(k),2,2)\n",
        "        col_h.set_segments(stem_h)\n",
        "        text_x.set_position([8, 0.55])\n",
        "        text_x.set_text('x[k]')\n",
        "        text_h.set_position([9.5, -0.6])\n",
        "        text_h.set_text('h[k]')\n",
        "        markers_y0.set_data([], [])\n",
        "        stem_y0 = np.c_[[],[],[],[]].reshape(1,2,2)\n",
        "        col_y0 = LineCollection([[],[],[],[]], colors=['r'], lw=3)\n",
        "        ax1.set_xlabel('k')\n",
        "    else:\n",
        "        markers_h.set_data(k, h(-k))\n",
        "        stem_h = np.c_[k, np.zeros_like(k), k, h(-k)].reshape(len(k),2,2)\n",
        "        col_h.set_segments(stem_h)\n",
        "        ax1.set_xlabel('k')\n",
        "        text_x.set_position([8, 0.55])\n",
        "        text_x.set_text('x[k]')\n",
        "        text_h.set_position([-4.5, -0.6])\n",
        "        text_h.set_text('h[-k]')\n",
        "        markers_y0.set_data(0, 0)\n",
        "        stem_y0 = np.c_[0, 0, 0, 0].reshape(1,2,2)\n",
        "        col_y0 = LineCollection(stem_y0, colors=['r'], lw=3)\n",
        "\n",
        "def overlap_conv(n0):\n",
        "    markers_h.set_data(k, h(n0-k))\n",
        "    stem_h = np.c_[k, np.zeros_like(k), k, h(n0-k)].reshape(len(k),2,2)\n",
        "    col_h.set_segments(stem_h)\n",
        "    text_h.set_position([n0-4.5, -0.6])\n",
        "    text_h.set_text('h[n-k]')\n",
        "    fig.tight_layout()\n",
        "\n",
        "def calc_conv(n0):\n",
        "    n0index = n0 - n[0]\n",
        "    markers_y0.set_data(n0, y[n0index])\n",
        "    stem_y0 = np.c_[n0, 0, n0, y[n0index]].reshape(1,2,2)\n",
        "    col_y0.set_segments(stem_y0)   "
      ]
    },
    {
      "cell_type": "code",
      "execution_count": 27,
      "metadata": {
        "id": "eAeercWhfe85"
      },
      "outputs": [],
      "source": [
        "button = ToggleButtons(options=['signals', 'n --> k', 'flip'], disabled=False,\n",
        "                       button_style='', description='step')   \n",
        "\n",
        "n0shift = IntSlider(value=-2, min=-4, max=21, step=1, description='n0', \n",
        "               disabled=False, continuous_update=False,\n",
        "               readout=True, readout_format='d') \n",
        "\n",
        "def on_button_pressed(change):\n",
        "    n0shift.value = 0\n",
        "    stepwise_convolution(change.new)\n",
        "    \n",
        "def n0shift_handler(change):\n",
        "    overlap_conv(change.new)        \n",
        "    calc_conv(change.new)"
      ]
    },
    {
      "cell_type": "code",
      "execution_count": 28,
      "metadata": {
        "id": "J7qNx5rNfe86"
      },
      "outputs": [],
      "source": [
        "# do stepwise convolution\n",
        "button.observe(on_button_pressed, names='value')\n",
        "n0shift.observe(n0shift_handler, names='value')"
      ]
    },
    {
      "cell_type": "code",
      "execution_count": 29,
      "metadata": {
        "colab": {
          "base_uri": "https://localhost:8080/",
          "height": 83,
          "referenced_widgets": [
            "7b96aca994524ae18ff9965c067c7b8b",
            "66caa84bd32e458c99f8cba244c8c88d",
            "1555f5581672498c956c9f0661dd364a",
            "7a12c8756d474fb2af2bf1b653b94b4c",
            "744c621b924a499aa2cfd38b0cb91518",
            "9a1e267d6fa041398b0c9e4ee25dac91",
            "545be9c51dc24260afdf1d5435e8b727",
            "ac573ecc54174d939db63c04b13d647e",
            "8ff26ba521bd49aab0f43049eb7eb46b",
            "cd0dd07e46884fe1886b93d67f261fe1",
            "73c488d7e2474ca3bf57d5dac181042b",
            "d43db0f5834f4ff8807d3ee3e92461fe",
            "28aed46fbabb46909ff335431f15b347",
            "941f07fc9d234ca699fae0da20afc3eb"
          ]
        },
        "id": "id8OfzLofe87",
        "outputId": "9623ccf6-69ec-432d-8b27-59f4769c3d8a"
      },
      "outputs": [
        {
          "output_type": "display_data",
          "data": {
            "text/plain": [
              "VBox(children=(Box(children=(Output(),), layout=Layout(align_items='flex-start', display='flex', flex_flow='ro…"
            ],
            "application/vnd.jupyter.widget-view+json": {
              "version_major": 2,
              "version_minor": 0,
              "model_id": "7b96aca994524ae18ff9965c067c7b8b"
            }
          },
          "metadata": {}
        }
      ],
      "source": [
        "fig_layout = Layout(display='flex',\n",
        "                    flex_flow='row',\n",
        "                    align_items='flex-start')\n",
        "fig_box = Box(children=[conv_fig], layout=fig_layout)\n",
        "control_box = TwoByTwoLayout(top_left=button, \n",
        "                                  bottom_left=n0shift, \n",
        "                                  width='700px')\n",
        "VBox([fig_box, control_box])"
      ]
    },
    {
      "cell_type": "markdown",
      "metadata": {
        "id": "FISTA8pgfe88"
      },
      "source": [
        "\n",
        "\n",
        "\n",
        "\n",
        "\n",
        "\n",
        "\n",
        "\n",
        "\n",
        "\n"
      ]
    }
  ],
  "metadata": {
    "kernelspec": {
      "display_name": "Python 3",
      "language": "python",
      "name": "python3"
    },
    "language_info": {
      "codemirror_mode": {
        "name": "ipython",
        "version": 3
      },
      "file_extension": ".py",
      "mimetype": "text/x-python",
      "name": "python",
      "nbconvert_exporter": "python",
      "pygments_lexer": "ipython3",
      "version": "3.7.4"
    },
    "colab": {
      "provenance": []
    },
    "widgets": {
      "application/vnd.jupyter.widget-state+json": {
        "7b96aca994524ae18ff9965c067c7b8b": {
          "model_module": "@jupyter-widgets/controls",
          "model_name": "VBoxModel",
          "model_module_version": "1.5.0",
          "state": {
            "_dom_classes": [],
            "_model_module": "@jupyter-widgets/controls",
            "_model_module_version": "1.5.0",
            "_model_name": "VBoxModel",
            "_view_count": null,
            "_view_module": "@jupyter-widgets/controls",
            "_view_module_version": "1.5.0",
            "_view_name": "VBoxView",
            "box_style": "",
            "children": [
              "IPY_MODEL_66caa84bd32e458c99f8cba244c8c88d",
              "IPY_MODEL_1555f5581672498c956c9f0661dd364a"
            ],
            "layout": "IPY_MODEL_7a12c8756d474fb2af2bf1b653b94b4c"
          }
        },
        "66caa84bd32e458c99f8cba244c8c88d": {
          "model_module": "@jupyter-widgets/controls",
          "model_name": "BoxModel",
          "model_module_version": "1.5.0",
          "state": {
            "_dom_classes": [],
            "_model_module": "@jupyter-widgets/controls",
            "_model_module_version": "1.5.0",
            "_model_name": "BoxModel",
            "_view_count": null,
            "_view_module": "@jupyter-widgets/controls",
            "_view_module_version": "1.5.0",
            "_view_name": "BoxView",
            "box_style": "",
            "children": [
              "IPY_MODEL_744c621b924a499aa2cfd38b0cb91518"
            ],
            "layout": "IPY_MODEL_9a1e267d6fa041398b0c9e4ee25dac91"
          }
        },
        "1555f5581672498c956c9f0661dd364a": {
          "model_module": "@jupyter-widgets/controls",
          "model_name": "GridBoxModel",
          "model_module_version": "1.5.0",
          "state": {
            "_dom_classes": [],
            "_model_module": "@jupyter-widgets/controls",
            "_model_module_version": "1.5.0",
            "_model_name": "GridBoxModel",
            "_view_count": null,
            "_view_module": "@jupyter-widgets/controls",
            "_view_module_version": "1.5.0",
            "_view_name": "GridBoxView",
            "box_style": "",
            "children": [
              "IPY_MODEL_545be9c51dc24260afdf1d5435e8b727",
              "IPY_MODEL_ac573ecc54174d939db63c04b13d647e"
            ],
            "layout": "IPY_MODEL_8ff26ba521bd49aab0f43049eb7eb46b"
          }
        },
        "7a12c8756d474fb2af2bf1b653b94b4c": {
          "model_module": "@jupyter-widgets/base",
          "model_name": "LayoutModel",
          "model_module_version": "1.2.0",
          "state": {
            "_model_module": "@jupyter-widgets/base",
            "_model_module_version": "1.2.0",
            "_model_name": "LayoutModel",
            "_view_count": null,
            "_view_module": "@jupyter-widgets/base",
            "_view_module_version": "1.2.0",
            "_view_name": "LayoutView",
            "align_content": null,
            "align_items": null,
            "align_self": null,
            "border": null,
            "bottom": null,
            "display": null,
            "flex": null,
            "flex_flow": null,
            "grid_area": null,
            "grid_auto_columns": null,
            "grid_auto_flow": null,
            "grid_auto_rows": null,
            "grid_column": null,
            "grid_gap": null,
            "grid_row": null,
            "grid_template_areas": null,
            "grid_template_columns": null,
            "grid_template_rows": null,
            "height": null,
            "justify_content": null,
            "justify_items": null,
            "left": null,
            "margin": null,
            "max_height": null,
            "max_width": null,
            "min_height": null,
            "min_width": null,
            "object_fit": null,
            "object_position": null,
            "order": null,
            "overflow": null,
            "overflow_x": null,
            "overflow_y": null,
            "padding": null,
            "right": null,
            "top": null,
            "visibility": null,
            "width": null
          }
        },
        "744c621b924a499aa2cfd38b0cb91518": {
          "model_module": "@jupyter-widgets/output",
          "model_name": "OutputModel",
          "model_module_version": "1.0.0",
          "state": {
            "_dom_classes": [],
            "_model_module": "@jupyter-widgets/output",
            "_model_module_version": "1.0.0",
            "_model_name": "OutputModel",
            "_view_count": null,
            "_view_module": "@jupyter-widgets/output",
            "_view_module_version": "1.0.0",
            "_view_name": "OutputView",
            "layout": "IPY_MODEL_941f07fc9d234ca699fae0da20afc3eb",
            "msg_id": "",
            "outputs": []
          }
        },
        "9a1e267d6fa041398b0c9e4ee25dac91": {
          "model_module": "@jupyter-widgets/base",
          "model_name": "LayoutModel",
          "model_module_version": "1.2.0",
          "state": {
            "_model_module": "@jupyter-widgets/base",
            "_model_module_version": "1.2.0",
            "_model_name": "LayoutModel",
            "_view_count": null,
            "_view_module": "@jupyter-widgets/base",
            "_view_module_version": "1.2.0",
            "_view_name": "LayoutView",
            "align_content": null,
            "align_items": "flex-start",
            "align_self": null,
            "border": null,
            "bottom": null,
            "display": "flex",
            "flex": null,
            "flex_flow": "row",
            "grid_area": null,
            "grid_auto_columns": null,
            "grid_auto_flow": null,
            "grid_auto_rows": null,
            "grid_column": null,
            "grid_gap": null,
            "grid_row": null,
            "grid_template_areas": null,
            "grid_template_columns": null,
            "grid_template_rows": null,
            "height": null,
            "justify_content": null,
            "justify_items": null,
            "left": null,
            "margin": null,
            "max_height": null,
            "max_width": null,
            "min_height": null,
            "min_width": null,
            "object_fit": null,
            "object_position": null,
            "order": null,
            "overflow": null,
            "overflow_x": null,
            "overflow_y": null,
            "padding": null,
            "right": null,
            "top": null,
            "visibility": null,
            "width": null
          }
        },
        "545be9c51dc24260afdf1d5435e8b727": {
          "model_module": "@jupyter-widgets/controls",
          "model_name": "ToggleButtonsModel",
          "model_module_version": "1.5.0",
          "state": {
            "_dom_classes": [],
            "_model_module": "@jupyter-widgets/controls",
            "_model_module_version": "1.5.0",
            "_model_name": "ToggleButtonsModel",
            "_options_labels": [
              "signals",
              "n --> k",
              "flip"
            ],
            "_view_count": null,
            "_view_module": "@jupyter-widgets/controls",
            "_view_module_version": "1.5.0",
            "_view_name": "ToggleButtonsView",
            "button_style": "",
            "description": "step",
            "description_tooltip": null,
            "disabled": false,
            "icons": [],
            "index": 0,
            "layout": "IPY_MODEL_cd0dd07e46884fe1886b93d67f261fe1",
            "style": "IPY_MODEL_73c488d7e2474ca3bf57d5dac181042b",
            "tooltips": []
          }
        },
        "ac573ecc54174d939db63c04b13d647e": {
          "model_module": "@jupyter-widgets/controls",
          "model_name": "IntSliderModel",
          "model_module_version": "1.5.0",
          "state": {
            "_dom_classes": [],
            "_model_module": "@jupyter-widgets/controls",
            "_model_module_version": "1.5.0",
            "_model_name": "IntSliderModel",
            "_view_count": null,
            "_view_module": "@jupyter-widgets/controls",
            "_view_module_version": "1.5.0",
            "_view_name": "IntSliderView",
            "continuous_update": false,
            "description": "n0",
            "description_tooltip": null,
            "disabled": false,
            "layout": "IPY_MODEL_d43db0f5834f4ff8807d3ee3e92461fe",
            "max": 21,
            "min": -4,
            "orientation": "horizontal",
            "readout": true,
            "readout_format": "d",
            "step": 1,
            "style": "IPY_MODEL_28aed46fbabb46909ff335431f15b347",
            "value": -2
          }
        },
        "8ff26ba521bd49aab0f43049eb7eb46b": {
          "model_module": "@jupyter-widgets/base",
          "model_name": "LayoutModel",
          "model_module_version": "1.2.0",
          "state": {
            "_model_module": "@jupyter-widgets/base",
            "_model_module_version": "1.2.0",
            "_model_name": "LayoutModel",
            "_view_count": null,
            "_view_module": "@jupyter-widgets/base",
            "_view_module_version": "1.2.0",
            "_view_name": "LayoutView",
            "align_content": null,
            "align_items": null,
            "align_self": null,
            "border": null,
            "bottom": null,
            "display": null,
            "flex": null,
            "flex_flow": null,
            "grid_area": null,
            "grid_auto_columns": null,
            "grid_auto_flow": null,
            "grid_auto_rows": null,
            "grid_column": null,
            "grid_gap": null,
            "grid_row": null,
            "grid_template_areas": "\"top-left top-left\"\n\"bottom-left bottom-left\"",
            "grid_template_columns": "1fr 1fr",
            "grid_template_rows": "1fr 1fr",
            "height": null,
            "justify_content": null,
            "justify_items": null,
            "left": null,
            "margin": null,
            "max_height": null,
            "max_width": null,
            "min_height": null,
            "min_width": null,
            "object_fit": null,
            "object_position": null,
            "order": null,
            "overflow": null,
            "overflow_x": null,
            "overflow_y": null,
            "padding": null,
            "right": null,
            "top": null,
            "visibility": null,
            "width": "700px"
          }
        },
        "cd0dd07e46884fe1886b93d67f261fe1": {
          "model_module": "@jupyter-widgets/base",
          "model_name": "LayoutModel",
          "model_module_version": "1.2.0",
          "state": {
            "_model_module": "@jupyter-widgets/base",
            "_model_module_version": "1.2.0",
            "_model_name": "LayoutModel",
            "_view_count": null,
            "_view_module": "@jupyter-widgets/base",
            "_view_module_version": "1.2.0",
            "_view_name": "LayoutView",
            "align_content": null,
            "align_items": null,
            "align_self": null,
            "border": null,
            "bottom": null,
            "display": null,
            "flex": null,
            "flex_flow": null,
            "grid_area": "top-left",
            "grid_auto_columns": null,
            "grid_auto_flow": null,
            "grid_auto_rows": null,
            "grid_column": null,
            "grid_gap": null,
            "grid_row": null,
            "grid_template_areas": null,
            "grid_template_columns": null,
            "grid_template_rows": null,
            "height": null,
            "justify_content": null,
            "justify_items": null,
            "left": null,
            "margin": null,
            "max_height": null,
            "max_width": null,
            "min_height": null,
            "min_width": null,
            "object_fit": null,
            "object_position": null,
            "order": null,
            "overflow": null,
            "overflow_x": null,
            "overflow_y": null,
            "padding": null,
            "right": null,
            "top": null,
            "visibility": null,
            "width": null
          }
        },
        "73c488d7e2474ca3bf57d5dac181042b": {
          "model_module": "@jupyter-widgets/controls",
          "model_name": "ToggleButtonsStyleModel",
          "model_module_version": "1.5.0",
          "state": {
            "_model_module": "@jupyter-widgets/controls",
            "_model_module_version": "1.5.0",
            "_model_name": "ToggleButtonsStyleModel",
            "_view_count": null,
            "_view_module": "@jupyter-widgets/base",
            "_view_module_version": "1.2.0",
            "_view_name": "StyleView",
            "button_width": "",
            "description_width": "",
            "font_weight": ""
          }
        },
        "d43db0f5834f4ff8807d3ee3e92461fe": {
          "model_module": "@jupyter-widgets/base",
          "model_name": "LayoutModel",
          "model_module_version": "1.2.0",
          "state": {
            "_model_module": "@jupyter-widgets/base",
            "_model_module_version": "1.2.0",
            "_model_name": "LayoutModel",
            "_view_count": null,
            "_view_module": "@jupyter-widgets/base",
            "_view_module_version": "1.2.0",
            "_view_name": "LayoutView",
            "align_content": null,
            "align_items": null,
            "align_self": null,
            "border": null,
            "bottom": null,
            "display": null,
            "flex": null,
            "flex_flow": null,
            "grid_area": "bottom-left",
            "grid_auto_columns": null,
            "grid_auto_flow": null,
            "grid_auto_rows": null,
            "grid_column": null,
            "grid_gap": null,
            "grid_row": null,
            "grid_template_areas": null,
            "grid_template_columns": null,
            "grid_template_rows": null,
            "height": null,
            "justify_content": null,
            "justify_items": null,
            "left": null,
            "margin": null,
            "max_height": null,
            "max_width": null,
            "min_height": null,
            "min_width": null,
            "object_fit": null,
            "object_position": null,
            "order": null,
            "overflow": null,
            "overflow_x": null,
            "overflow_y": null,
            "padding": null,
            "right": null,
            "top": null,
            "visibility": null,
            "width": null
          }
        },
        "28aed46fbabb46909ff335431f15b347": {
          "model_module": "@jupyter-widgets/controls",
          "model_name": "SliderStyleModel",
          "model_module_version": "1.5.0",
          "state": {
            "_model_module": "@jupyter-widgets/controls",
            "_model_module_version": "1.5.0",
            "_model_name": "SliderStyleModel",
            "_view_count": null,
            "_view_module": "@jupyter-widgets/base",
            "_view_module_version": "1.2.0",
            "_view_name": "StyleView",
            "description_width": "",
            "handle_color": null
          }
        },
        "941f07fc9d234ca699fae0da20afc3eb": {
          "model_module": "@jupyter-widgets/base",
          "model_name": "LayoutModel",
          "model_module_version": "1.2.0",
          "state": {
            "_model_module": "@jupyter-widgets/base",
            "_model_module_version": "1.2.0",
            "_model_name": "LayoutModel",
            "_view_count": null,
            "_view_module": "@jupyter-widgets/base",
            "_view_module_version": "1.2.0",
            "_view_name": "LayoutView",
            "align_content": null,
            "align_items": null,
            "align_self": null,
            "border": null,
            "bottom": null,
            "display": null,
            "flex": null,
            "flex_flow": null,
            "grid_area": null,
            "grid_auto_columns": null,
            "grid_auto_flow": null,
            "grid_auto_rows": null,
            "grid_column": null,
            "grid_gap": null,
            "grid_row": null,
            "grid_template_areas": null,
            "grid_template_columns": null,
            "grid_template_rows": null,
            "height": null,
            "justify_content": null,
            "justify_items": null,
            "left": null,
            "margin": null,
            "max_height": null,
            "max_width": null,
            "min_height": null,
            "min_width": null,
            "object_fit": null,
            "object_position": null,
            "order": null,
            "overflow": null,
            "overflow_x": null,
            "overflow_y": null,
            "padding": null,
            "right": null,
            "top": null,
            "visibility": null,
            "width": null
          }
        }
      }
    }
  },
  "nbformat": 4,
  "nbformat_minor": 0
}