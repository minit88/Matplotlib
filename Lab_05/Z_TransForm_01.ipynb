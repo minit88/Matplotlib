{
  "nbformat": 4,
  "nbformat_minor": 0,
  "metadata": {
    "colab": {
      "provenance": [],
      "authorship_tag": "ABX9TyPxPzPCmnzsIl5m/KsrKi9p",
      "include_colab_link": true
    },
    "kernelspec": {
      "name": "python3",
      "display_name": "Python 3"
    },
    "language_info": {
      "name": "python"
    }
  },
  "cells": [
    {
      "cell_type": "markdown",
      "metadata": {
        "id": "view-in-github",
        "colab_type": "text"
      },
      "source": [
        "<a href=\"https://colab.research.google.com/github/minit88/Matplotlib/blob/main/Lab_05/Z_TransForm_01.ipynb\" target=\"_parent\"><img src=\"https://colab.research.google.com/assets/colab-badge.svg\" alt=\"Open In Colab\"/></a>"
      ]
    },
    {
      "cell_type": "code",
      "execution_count": 1,
      "metadata": {
        "id": "8VczxMoPNy8-"
      },
      "outputs": [],
      "source": [
        "# 극점-영점 계산과 플롯\n",
        "def zplane(b, a, ax, auto_scale=True, rmax=1.5):\n",
        "    \"\"\"\n",
        "    zplane: plot pole-zero pattern in the complex z-plane\n",
        "    given a transfer function.\n",
        "    parameters:\n",
        "        b = numerator coefficients\n",
        "        a = denominator coefficients\n",
        "        (z,p,k) = array of zeros, poles, and gain\n",
        "    \"\"\"\n",
        "    # 단위원\n",
        "    theta = np.linspace(0, 2 * np.pi, 360)\n",
        "    ax.plot(np.cos(theta), np.sin(theta), color='0.4', lw=0.5)\n",
        "\n",
        "    # 극점-영점 계산\n",
        "    z, p, k = signal.tf2zpk(b, a)\n",
        "    if len(z)>0:\n",
        "        # 영점의 다중성 점검\n",
        "        z_unique, z_multi = signal.unique_roots(z, tol=1e-04)\n",
        "        unique = z_unique[z_multi>1]\n",
        "        multi = z_multi[z_multi>1]\n",
        "        # 영점 플롯\n",
        "        ax.plot(z_unique.real, z_unique.imag, color='C1', marker='o', mfc='none', lw=0, ms=8)\n",
        "        if len(multi>1)!=0:\n",
        "            for m, zk in enumerate(unique):\n",
        "                ax.text(zk.real+0.06, zk.imag+0.07, '('+str(multi[m])+')')\n",
        "    if len(p)>0:\n",
        "        # 극점의 다중성 점검\n",
        "        p_unique, p_multi = signal.unique_roots(p, tol=1e-04)\n",
        "        unique = p_unique[p_multi > 1]\n",
        "        multi = p_multi[p_multi > 1]\n",
        "        if len(multi > 1) != 0:\n",
        "            for m, zk in enumerate(unique):\n",
        "                ax.text(zk.real+0.06, zk.imag+0.07, '(' + str(multi[m]) + ')')\n",
        "        # 극점 플롯\n",
        "        ax.plot(p_unique.real, p_unique.imag, color='C1', marker='x', mfc='none', lw=0, ms=8)\n",
        "    # 축 설정\n",
        "    zp = np.concatenate((z, p))\n",
        "    if auto_scale:\n",
        "        r = np.max(np.abs(zp)) + 0.5\n",
        "    else:\n",
        "        r = rmax\n",
        "    ax.axhline(0, color='0.5',lw=0.5)\n",
        "    ax.axvline(0, color='0.5',lw=0.5)\n",
        "    ax.set_xlim([-r, r]); ax.set_ylim([-r, r])\n",
        "    ax.set_xlabel('Real')\n",
        "    ax.set_ylabel('Imag')\n",
        "    ax.set_title('pole-zero plot')\n",
        "    ax.set_aspect('equal')\n",
        "    return z, p, k"
      ]
    },
    {
      "cell_type": "code",
      "source": [
        "def ctft(x, tp):\n",
        "  N = 8*len(x)\n",
        "  X = fftshift(fft(x,N)) * tp\n",
        "  f = np.linspace(-0.5/tp, 0.5/tp, len(X), endpoint=False)\n",
        "  return X, f"
      ],
      "metadata": {
        "id": "bCw6G3HvTXz_"
      },
      "execution_count": 23,
      "outputs": []
    },
    {
      "cell_type": "code",
      "source": [
        "import numpy as np\n",
        "import matplotlib.pyplot as plt\n",
        "from scipy import signal\n",
        "from numpy.fft import fft, fftshift\n",
        "b = np.array([1,np.sqrt(2),1]) # 분자 -x의 계수\n",
        "a = np.array([1,0,0]) # 분모 -y의 계수\n",
        "# 극점-영점 계산과 플롯\n",
        "fig, ax = plt.subplots(1,3)\n",
        "z, p, k = zplane(b, a, ax[0])\n",
        "# z,p,k=signal.tf2zpk(b,a)\n",
        "print(z, p, k)\n",
        "r1,p1,k1=signal.residuez(b,a)\n",
        "print(r1,p1,k1)\n",
        "fig.tight_layout()\n",
        "\n",
        "N = 20; imp = (np.arange(N) <= 0) * 1.0;\n",
        "y3 = signal.lfilter(b, a, imp); ax[1].stem(y3);ax[1].set_xlim([0,20]) # 임펄스 응답\n",
        "X2,f = ctft(y3,1); ax[2].plot(f,np.abs(X2))"
      ],
      "metadata": {
        "colab": {
          "base_uri": "https://localhost:8080/",
          "height": 381
        },
        "id": "8PHEbKuZN0Za",
        "outputId": "50665015-fff9-42aa-d8c7-328088a31c86"
      },
      "execution_count": 31,
      "outputs": [
        {
          "output_type": "stream",
          "name": "stdout",
          "text": [
            "[-0.70710678+0.70710678j -0.70710678-0.70710678j] [0. 0.] 1.0\n",
            "[] [] [1.         1.41421356 1.        ]\n"
          ]
        },
        {
          "output_type": "stream",
          "name": "stderr",
          "text": [
            "/usr/local/lib/python3.7/dist-packages/ipykernel_launcher.py:17: UserWarning: In Matplotlib 3.3 individual lines on a stem plot will be added as a LineCollection instead of individual lines. This significantly improves the performance of a stem plot. To remove this warning and switch to the new behaviour, set the \"use_line_collection\" keyword argument to True.\n"
          ]
        },
        {
          "output_type": "execute_result",
          "data": {
            "text/plain": [
              "[<matplotlib.lines.Line2D at 0x7f1c8e925a10>]"
            ]
          },
          "metadata": {},
          "execution_count": 31
        },
        {
          "output_type": "display_data",
          "data": {
            "text/plain": [
              "<Figure size 432x288 with 3 Axes>"
            ],
            "image/png": "[encoded data removed]"
          },
          "metadata": {
            "needs_background": "light"
          }
        }
      ]
    }
  ]
}