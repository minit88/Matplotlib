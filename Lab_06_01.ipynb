{
  "nbformat": 4,
  "nbformat_minor": 0,
  "metadata": {
    "colab": {
      "provenance": [],
      "authorship_tag": "ABX9TyOrGzvXaKzlWaLob202W/yg"
    },
    "kernelspec": {
      "name": "python3",
      "display_name": "Python 3"
    },
    "language_info": {
      "name": "python"
    }
  },
  "cells": [
    {
      "cell_type": "code",
      "execution_count": 12,
      "metadata": {
        "colab": {
          "base_uri": "https://localhost:8080/",
          "height": 274
        },
        "id": "4iRPtPyclIQR",
        "outputId": "fd9659e7-4f81-4ddb-f3ef-49b7f4ec4fae"
      },
      "outputs": [
        {
          "output_type": "stream",
          "name": "stderr",
          "text": [
            "/usr/local/lib/python3.7/dist-packages/ipykernel_launcher.py:17: UserWarning: In Matplotlib 3.3 individual lines on a stem plot will be added as a LineCollection instead of individual lines. This significantly improves the performance of a stem plot. To remove this warning and switch to the new behaviour, set the \"use_line_collection\" keyword argument to True.\n"
          ]
        },
        {
          "output_type": "display_data",
          "data": {
            "text/plain": [
              "<Figure size 600x400 with 1 Axes>"
            ],
            "image/png": "[encoded data removed]"
          },
          "metadata": {
            "needs_background": "light"
          }
        }
      ],
      "source": [
        "import numpy as np\n",
        "import matplotlib.pyplot as plt\n",
        "from scipy import signal\n",
        "import scipy.io.wavfile as wavfile\n",
        "from numpy.fft import fft, ifft, fftshift\n",
        "\n",
        "n=np.arange(-5,15+1)\n",
        "\n",
        "#generate signals\n",
        "imp = lambda n: (n==0)*(n==np.round(n)).astype(float)#impulse\n",
        "u= lambda n:(n>=0)*(n==np.round(n)).astype(float)#step\n",
        "x1=np.exp(-0.5*n)*u(n) # exponential\n",
        "x2=np.cos(2*np.pi*n/12) # sinusoid\n",
        "\n",
        "#stem-plot of signal\n",
        "plt.figure(figsize=(6,4),dpi = 100)\n",
        "plt.subplot(2,2,1);plt.stem(n,u(n));plt.title('a') # row,column,index\n",
        "\n",
        "plt.tight_layout(); # 좀 더 커지게 만듦"
      ]
    },
    {
      "cell_type": "markdown",
      "source": [
        "# **스칼라 값으로 그리기**"
      ],
      "metadata": {
        "id": "cIo5akFpoHbt"
      }
    },
    {
      "cell_type": "code",
      "source": [
        "nmin,nmax = -5,15\n",
        "n=np.arange(nmin,nmax+1)\n",
        "\n",
        "x2=np.array([3,3,5,5,4,3,2,1])\n",
        "x1 = np.zeros(5); x3 = np.zeros(8)\n",
        "x=np.concatenate((x1,x2),axis =0) # x1,x2의 배열을 합친다.\n",
        "print('print x:',x)\n",
        "x=np.concatenate((x,x3),axis=0) # x,x3의 배열을 합친다.\n",
        "\n",
        "\n",
        "print('print x:',x)\n",
        "\n",
        "plt.figure(figsize=(6,2),dpi=100)\n",
        "plt.subplot(1,2,1);plt.stem(x2) # x2의 임펄스 응답만 구함\n",
        "plt.subplot(1,2,2);plt.stem(n,x) # 범위 n에 대해서 x의 임펄스 출력을 구함"
      ],
      "metadata": {
        "colab": {
          "base_uri": "https://localhost:8080/",
          "height": 350
        },
        "id": "CEHawoLEnXst",
        "outputId": "afde9b1f-c203-49ed-dc68-e8c6310e241e"
      },
      "execution_count": 9,
      "outputs": [
        {
          "output_type": "stream",
          "name": "stdout",
          "text": [
            "print x: [0. 0. 0. 0. 0. 3. 3. 5. 5. 4. 3. 2. 1.]\n",
            "print x: [0. 0. 0. 0. 0. 3. 3. 5. 5. 4. 3. 2. 1. 0. 0. 0. 0. 0. 0. 0. 0.]\n"
          ]
        },
        {
          "output_type": "stream",
          "name": "stderr",
          "text": [
            "/usr/local/lib/python3.7/dist-packages/ipykernel_launcher.py:14: UserWarning: In Matplotlib 3.3 individual lines on a stem plot will be added as a LineCollection instead of individual lines. This significantly improves the performance of a stem plot. To remove this warning and switch to the new behaviour, set the \"use_line_collection\" keyword argument to True.\n",
            "  \n",
            "/usr/local/lib/python3.7/dist-packages/ipykernel_launcher.py:15: UserWarning: In Matplotlib 3.3 individual lines on a stem plot will be added as a LineCollection instead of individual lines. This significantly improves the performance of a stem plot. To remove this warning and switch to the new behaviour, set the \"use_line_collection\" keyword argument to True.\n",
            "  from ipykernel import kernelapp as app\n"
          ]
        },
        {
          "output_type": "execute_result",
          "data": {
            "text/plain": [
              "<StemContainer object of 3 artists>"
            ]
          },
          "metadata": {},
          "execution_count": 9
        },
        {
          "output_type": "display_data",
          "data": {
            "text/plain": [
              "<Figure size 600x200 with 2 Axes>"
            ],
            "image/png": "[encoded data removed]"
          },
          "metadata": {
            "needs_background": "light"
          }
        }
      ]
    },
    {
      "cell_type": "markdown",
      "source": [
        "# **매개변수 형태로 그리기**"
      ],
      "metadata": {
        "id": "5Cm8xYZhpWq5"
      }
    },
    {
      "cell_type": "code",
      "source": [
        "nminx,nmax=-5,15\n",
        "n=np.arange(nmin,nmax+1)\n",
        "\n",
        "x=lambda n: 3*((n==0)|(n==1)).astype(float)+5*((n==2)|(n==3)).astype(float)+4*(n==4).astype(float) + 3*(n==5).astype(float) + 2*(n==6).astype(float)\n",
        "+ 1*(n==7).astype(float)\n",
        "\n",
        "plt.figure(figsize=(6,2),dpi=100)\n",
        "# x[n]\n",
        "plt.subplot(1,2,1);plt.stem(n,x(n));plt.xlim(-5.5,15.5);plt.ylim(-0.25,6);plt.title('x[n]');plt.xlabel('n')\n",
        "# x[n-2]\n",
        "plt.subplot(1,2,2);plt.stem(n,x(n-2));plt.xlim(-5.5,15.5);plt.ylim(-0.25,6);plt.title('x[n-2]');plt.xlabel('n')\n"
      ],
      "metadata": {
        "colab": {
          "base_uri": "https://localhost:8080/",
          "height": 358
        },
        "id": "hD3o72UOoGE2",
        "outputId": "991c1234-7ca7-4bf6-f1c9-c51b4e578dcc"
      },
      "execution_count": 11,
      "outputs": [
        {
          "output_type": "stream",
          "name": "stderr",
          "text": [
            "/usr/local/lib/python3.7/dist-packages/ipykernel_launcher.py:9: UserWarning: In Matplotlib 3.3 individual lines on a stem plot will be added as a LineCollection instead of individual lines. This significantly improves the performance of a stem plot. To remove this warning and switch to the new behaviour, set the \"use_line_collection\" keyword argument to True.\n",
            "  if __name__ == '__main__':\n",
            "/usr/local/lib/python3.7/dist-packages/ipykernel_launcher.py:11: UserWarning: In Matplotlib 3.3 individual lines on a stem plot will be added as a LineCollection instead of individual lines. This significantly improves the performance of a stem plot. To remove this warning and switch to the new behaviour, set the \"use_line_collection\" keyword argument to True.\n",
            "  # This is added back by InteractiveShellApp.init_path()\n"
          ]
        },
        {
          "output_type": "execute_result",
          "data": {
            "text/plain": [
              "Text(0.5, 0, 'n')"
            ]
          },
          "metadata": {},
          "execution_count": 11
        },
        {
          "output_type": "display_data",
          "data": {
            "text/plain": [
              "<Figure size 600x200 with 2 Axes>"
            ],
            "image/png": "[encoded data removed]"
          },
          "metadata": {
            "needs_background": "light"
          }
        }
      ]
    },
    {
      "cell_type": "code",
      "source": [
        "x=np.array([1,0,1,0],dtype=float)\n",
        "Xfft = fft(x)\n",
        "print(Xfft)\n",
        "x2=ifft(Xfft)\n",
        "print(x2)\n",
        "plt.subplot()\n",
        "\n"
      ],
      "metadata": {
        "colab": {
          "base_uri": "https://localhost:8080/"
        },
        "id": "apqZdTC3qauz",
        "outputId": "8e9443c3-edb7-45f5-a863-f322b99c26f8"
      },
      "execution_count": 13,
      "outputs": [
        {
          "output_type": "stream",
          "name": "stdout",
          "text": [
            "[2.+0.j 0.+0.j 2.+0.j 0.+0.j]\n",
            "[1.+0.j 0.+0.j 1.+0.j 0.+0.j]\n"
          ]
        }
      ]
    },
    {
      "cell_type": "code",
      "source": [
        "N = 32\n",
        "L = N//4\n",
        "x = np.concatenate((np.ones(L), np.zeros(N-L)))\n",
        "X = fft(x)\n",
        "Xshifted = fftshift(X)\n",
        "k = np.arange(N)\n",
        "plt.stem(k, np.abs(X), basefmt=' ')\n",
        "plt.stem(k, np.abs(Xshifted), basefmt=' ')\n",
        "plt.stem(k, np.angle(X), basefmt=' ')"
      ],
      "metadata": {
        "colab": {
          "base_uri": "https://localhost:8080/",
          "height": 336
        },
        "id": "2UMRZdb7uqiZ",
        "outputId": "58e85bb4-b828-45ef-9627-b4e95e6b1844"
      },
      "execution_count": 17,
      "outputs": [
        {
          "output_type": "stream",
          "name": "stderr",
          "text": [
            "/usr/local/lib/python3.7/dist-packages/ipykernel_launcher.py:7: UserWarning: In Matplotlib 3.3 individual lines on a stem plot will be added as a LineCollection instead of individual lines. This significantly improves the performance of a stem plot. To remove this warning and switch to the new behaviour, set the \"use_line_collection\" keyword argument to True.\n",
            "  import sys\n"
          ]
        },
        {
          "output_type": "execute_result",
          "data": {
            "text/plain": [
              "<StemContainer object of 3 artists>"
            ]
          },
          "metadata": {},
          "execution_count": 17
        },
        {
          "output_type": "display_data",
          "data": {
            "text/plain": [
              "<Figure size 432x288 with 1 Axes>"
            ],
            "image/png": "[encoded data removed]"
          },
          "metadata": {
            "needs_background": "light"
          }
        }
      ]
    },
    {
      "cell_type": "code",
      "source": [
        "u=lambda n: (n>=0)*(n==np.round(n)).astype(float)\n",
        "n=np.arange(-10,10+1)\n",
        "\n",
        "ueven = 0.5 * (u(n)+u(-n))\n",
        "uodd = 0.5 * (u(n)-u(-n))\n",
        "\n",
        "#plot signals\n",
        "fig,axes = plt.subplots(2,2,figsize=(6,4.5),dpi=100)\n",
        "fig.delaxes(axes[0,1]) # 안 그릴 부분 표시 안 하기\n",
        "\n",
        "# u[n]\n",
        "axes[0,0].stem(n, u(n), basefmt=' ') # 베이스 라인 안 긋기\n",
        "axes[0,0].set(xlim=[-10.5,10.5],title='$u[n]$')\n",
        "#even part\n",
        "axes[1,0].stem(n,ueven,basefmt='')\n",
        "axes[1,0].set(xlim=[-10.5,10.5],title='$u_e[n]$')\n",
        "axes[1,0].set_xlabel('n')\n",
        "# odd part\n",
        "axes[1,1].stem(n, uodd, basefmt=' ')\n",
        "axes[1,1].set(xlim=[-10.5,10.5], title='$u_o[n]$')\n",
        "axes[1,1].set_xlabel('n')\n",
        "fig.tight_layout()"
      ],
      "metadata": {
        "colab": {
          "base_uri": "https://localhost:8080/",
          "height": 561
        },
        "id": "4NLDbYxUvqNr",
        "outputId": "40300ac5-2781-4c9e-ed6e-57d8aeec02ee"
      },
      "execution_count": 25,
      "outputs": [
        {
          "output_type": "stream",
          "name": "stderr",
          "text": [
            "/usr/local/lib/python3.7/dist-packages/ipykernel_launcher.py:12: UserWarning: In Matplotlib 3.3 individual lines on a stem plot will be added as a LineCollection instead of individual lines. This significantly improves the performance of a stem plot. To remove this warning and switch to the new behaviour, set the \"use_line_collection\" keyword argument to True.\n",
            "  if sys.path[0] == '':\n",
            "/usr/local/lib/python3.7/dist-packages/ipykernel_launcher.py:15: UserWarning: In Matplotlib 3.3 individual lines on a stem plot will be added as a LineCollection instead of individual lines. This significantly improves the performance of a stem plot. To remove this warning and switch to the new behaviour, set the \"use_line_collection\" keyword argument to True.\n",
            "  from ipykernel import kernelapp as app\n",
            "/usr/local/lib/python3.7/dist-packages/ipykernel_launcher.py:19: UserWarning: In Matplotlib 3.3 individual lines on a stem plot will be added as a LineCollection instead of individual lines. This significantly improves the performance of a stem plot. To remove this warning and switch to the new behaviour, set the \"use_line_collection\" keyword argument to True.\n"
          ]
        },
        {
          "output_type": "display_data",
          "data": {
            "text/plain": [
              "<Figure size 600x450 with 3 Axes>"
            ],
            "image/png": "[encoded data removed]"
          },
          "metadata": {
            "needs_background": "light"
          }
        }
      ]
    }
  ]
}