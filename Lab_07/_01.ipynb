{
  "nbformat": 4,
  "nbformat_minor": 0,
  "metadata": {
    "colab": {
      "provenance": [],
      "authorship_tag": "ABX9TyM+IRog4dB0kwozU5HVYP05",
      "include_colab_link": true
    },
    "kernelspec": {
      "name": "python3",
      "display_name": "Python 3"
    },
    "language_info": {
      "name": "python"
    }
  },
  "cells": [
    {
      "cell_type": "markdown",
      "metadata": {
        "id": "view-in-github",
        "colab_type": "text"
      },
      "source": [
        "<a href=\"https://colab.research.google.com/github/minit88/Matplotlib/blob/main/Lab_07/_01.ipynb\" target=\"_parent\"><img src=\"https://colab.research.google.com/assets/colab-badge.svg\" alt=\"Open In Colab\"/></a>"
      ]
    },
    {
      "cell_type": "code",
      "source": [
        "def zplane(b, a, ax, auto_scale=True, rmax=1.5):\n",
        "    \"\"\"\n",
        "    zplane: plot pole-zero pattern in the complex z-plane\n",
        "    given a transfer function.\n",
        "    parameters:\n",
        "        b = numerator coefficients\n",
        "        a = denominator coefficients\n",
        "        (z,p,k) = array of zeros, poles, and gain\n",
        "    \"\"\"\n",
        "    # 단위원\n",
        "    theta = np.linspace(0, 2 * np.pi, 360)\n",
        "    ax.plot(np.cos(theta), np.sin(theta), color='0.4', lw=0.5)\n",
        "\n",
        "    # 극점-영점 계산\n",
        "    z, p, k = signal.tf2zpk(b, a)\n",
        "    if len(z)>0:\n",
        "        # 영점의 다중성 점검\n",
        "        z_unique, z_multi = signal.unique_roots(z, tol=1e-04)\n",
        "        unique = z_unique[z_multi>1]\n",
        "        multi = z_multi[z_multi>1]\n",
        "        # 영점 플롯\n",
        "        ax.plot(z_unique.real, z_unique.imag, color='C1', marker='o', mfc='none', lw=0, ms=8)\n",
        "        if len(multi>1)!=0:\n",
        "            for m, zk in enumerate(unique):\n",
        "                ax.text(zk.real+0.06, zk.imag+0.07, '('+str(multi[m])+')')\n",
        "    if len(p)>0:\n",
        "        # 극점의 다중성 점검\n",
        "        p_unique, p_multi = signal.unique_roots(p, tol=1e-04)\n",
        "        unique = p_unique[p_multi > 1]\n",
        "        multi = p_multi[p_multi > 1]\n",
        "        if len(multi > 1) != 0:\n",
        "            for m, zk in enumerate(unique):\n",
        "                ax.text(zk.real+0.06, zk.imag+0.07, '(' + str(multi[m]) + ')')\n",
        "        # 극점 플롯\n",
        "        ax.plot(p_unique.real, p_unique.imag, color='C1', marker='x', mfc='none', lw=0, ms=8)\n",
        "    # 축 설정\n",
        "    zp = np.concatenate((z, p))\n",
        "    if auto_scale:\n",
        "        r = np.max(np.abs(zp)) + 0.5\n",
        "    else:\n",
        "        r = rmax\n",
        "    ax.axhline(0, color='0.5',lw=0.5)\n",
        "    ax.axvline(0, color='0.5',lw=0.5)\n",
        "    ax.set_xlim([-r, r]); ax.set_ylim([-r, r])\n",
        "    ax.set_xlabel('Real')\n",
        "    ax.set_ylabel('Imag')\n",
        "    ax.set_title('pole-zero plot')\n",
        "    ax.set_aspect('equal')\n",
        "    return z, p, k"
      ],
      "metadata": {
        "id": "_tmpI8RXdEbI"
      },
      "execution_count": 14,
      "outputs": []
    },
    {
      "cell_type": "code",
      "source": [
        "from numpy.fft import fft, fftshift\n",
        "\n",
        "def ctft(x, tp):\n",
        "  N = 8*len(x)\n",
        "  X = fftshift(fft(x,N)) * tp\n",
        "  f = np.linspace(-0.5/tp, 0.5/tp, len(X), endpoint=False)\n",
        "  return X, f\n",
        "\n"
      ],
      "metadata": {
        "id": "so0qI1iVbiiX"
      },
      "execution_count": 22,
      "outputs": []
    },
    {
      "cell_type": "markdown",
      "source": [
        "# **Z평면 극점 영점과 주파수 응답**"
      ],
      "metadata": {
        "id": "CAwu0j6KeYOU"
      }
    },
    {
      "cell_type": "code",
      "execution_count": 19,
      "metadata": {
        "colab": {
          "base_uri": "https://localhost:8080/",
          "height": 296
        },
        "id": "SC1i7U0QaUEG",
        "outputId": "600e71d1-8905-49c3-d12c-371d2751bbc5"
      },
      "outputs": [
        {
          "output_type": "stream",
          "name": "stdout",
          "text": [
            "[-0.5  0. ] [-0.+1.j  0.-1.j] 1.0\n",
            "[0.5-0.25j 0.5+0.25j] [0.+1.j 0.-1.j] []\n"
          ]
        },
        {
          "output_type": "stream",
          "name": "stderr",
          "text": [
            "/usr/local/lib/python3.7/dist-packages/ipykernel_launcher.py:18: UserWarning: In Matplotlib 3.3 individual lines on a stem plot will be added as a LineCollection instead of individual lines. This significantly improves the performance of a stem plot. To remove this warning and switch to the new behaviour, set the \"use_line_collection\" keyword argument to True.\n"
          ]
        },
        {
          "output_type": "display_data",
          "data": {
            "text/plain": [
              "<Figure size 864x216 with 3 Axes>"
            ],
            "image/png": "[encoded data removed]"
          },
          "metadata": {
            "needs_background": "light"
          }
        }
      ],
      "source": [
        "import numpy as np\n",
        "import matplotlib.pyplot as plt\n",
        "from scipy import signal\n",
        "#from plot_zplane import zplane \n",
        "\n",
        "\n",
        "b = np.array([1,0.5,0]) # 분자 - x의 계수\n",
        "a = np.array([1,0,1]) # 분모 - y의 계수\n",
        "# 극점-영점 계산과 플롯\n",
        "fig, ax = plt.subplots(1, 3, figsize=(12,3))\n",
        "z, p, k = zplane(b, a, ax[0])\n",
        "#z, p, k = signal.tf2zpk(b, a)\n",
        "\n",
        "print(z, p, k)\n",
        "r1, p1, k1 = signal.residuez(b, a)\n",
        "print(r1, p1, k1)\n",
        "fig.tight_layout()\n",
        "N = 40; imp = (np.arange(N) <= 0) * 1.0;\n",
        "h = signal.lfilter(b, a, imp); ax[1].stem(h); ax[1].set_xlim([0, 20])\n",
        "X, f = ctft(h, 1); ax[2].plot(f, np.abs(X));"
      ]
    }
  ]
}