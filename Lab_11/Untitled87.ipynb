{
  "nbformat": 4,
  "nbformat_minor": 0,
  "metadata": {
    "colab": {
      "provenance": [],
      "authorship_tag": "ABX9TyPJQg4oW8yGB6IrxUQH3cVS"
    },
    "kernelspec": {
      "name": "python3",
      "display_name": "Python 3"
    },
    "language_info": {
      "name": "python"
    }
  },
  "cells": [
    {
      "cell_type": "code",
      "execution_count": null,
      "metadata": {
        "id": "nJgoVzVDCH2U",
        "colab": {
          "base_uri": "https://localhost:8080/",
          "height": 322
        },
        "outputId": "b70203b9-7b11-482d-9e8c-67638f493382"
      },
      "outputs": [
        {
          "output_type": "stream",
          "name": "stderr",
          "text": [
            "/usr/local/lib/python3.7/dist-packages/ipykernel_launcher.py:17: UserWarning: In Matplotlib 3.3 individual lines on a stem plot will be added as a LineCollection instead of individual lines. This significantly improves the performance of a stem plot. To remove this warning and switch to the new behaviour, set the \"use_line_collection\" keyword argument to True.\n"
          ]
        },
        {
          "output_type": "execute_result",
          "data": {
            "text/plain": [
              "<StemContainer object of 3 artists>"
            ]
          },
          "metadata": {},
          "execution_count": 11
        },
        {
          "output_type": "display_data",
          "data": {
            "text/plain": [
              "<Figure size 432x288 with 3 Axes>"
            ],
            "image/png": "[encoded data removed]"
          },
          "metadata": {
            "needs_background": "light"
          }
        }
      ],
      "source": [
        "import numpy as np\n",
        "import matplotlib.pyplot as plt\n",
        "from scipy import signal\n",
        "from numpy.fft import fft,fftshift,ifft\n",
        "\n",
        "L=16;N=16; x=np.ones(L);fs=1000\n",
        "w=np.arange(0,2*np.pi,1/fs)\n",
        "X=np.zeros(len(w),dtype=complex)\n",
        "\n",
        "for n in range(L):\n",
        "  X=X+x[n]*np.exp(-1j*w*n) # 복소수 만들 때 -1j\n",
        "fig,ax=plt.subplots(3,1)\n",
        "ax[0].plot(w/2/np.pi,np.abs(X))\n",
        "\n",
        "L2=16;X1=fft(x,L2)\n",
        "delta = 2*np.pi/L2 ; w2=np.arange(0,2*np.pi,delta)\n",
        "ax[0].stem(w2/2/np.pi,np.abs(X1))\n",
        "\n",
        "  "
      ]
    }
  ]
}